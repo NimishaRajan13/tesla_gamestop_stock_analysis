{
 "cells": [
  {
   "cell_type": "markdown",
   "id": "d1dd288d-a890-4ab4-a3c3-0c36a4b8caa9",
   "metadata": {},
   "source": [
    "# Extracting and Visualizing Stock Data"
   ]
  },
  {
   "cell_type": "code",
   "execution_count": null,
   "id": "bb7c3317-f3b1-4228-8054-8a9cda0dac99",
   "metadata": {},
   "outputs": [],
   "source": [
    "!pip install yfinance\n",
    "!pip install bs4\n",
    "!pip install nbformat\n",
    "!pip install --upgrade plotl"
   ]
  },
  {
   "cell_type": "code",
   "execution_count": null,
   "id": "bd31e54f-e752-46d0-bca4-ba199853e04e",
   "metadata": {},
   "outputs": [],
   "source": [
    "import yfinance as yf\n",
    "import pandas as pd\n",
    "import requests\n",
    "from bs4 import BeautifulSoup\n",
    "import plotly.graph_objects as go\n",
    "from plotly.subplots import make_subplots"
   ]
  },
  {
   "cell_type": "code",
   "execution_count": null,
   "id": "f83a506c-cfce-4dfc-8d08-d117bc450859",
   "metadata": {},
   "outputs": [],
   "source": [
    "import plotly.io as pio\n",
    "pio.renderers.default = \"iframe\""
   ]
  },
  {
   "cell_type": "code",
   "execution_count": null,
   "id": "cc8dbcf9-617b-4983-8569-d9dfeb83f468",
   "metadata": {},
   "outputs": [],
   "source": [
    "import warnings\n",
    "# Ignore all warnings\n",
    "warnings.filterwarnings(\"ignore\", category=FutureWarning)"
   ]
  },
  {
   "cell_type": "code",
   "execution_count": null,
   "id": "7c789c6a-15b6-4d80-8a41-5e2939f29881",
   "metadata": {},
   "outputs": [],
   "source": [
    "def make_graph(stock_data, revenue_data, stock):\n",
    "    fig = make_subplots(rows=2, cols=1, shared_xaxes=True, subplot_titles=(\"Historical Share Price\", \"Historical Revenue\"), vertical_spacing = .3)\n",
    "    stock_data_specific = stock_data[stock_data.Date <= '2021-06-14']\n",
    "    revenue_data_specific = revenue_data[revenue_data.Date <= '2021-04-30']\n",
    "    fig.add_trace(go.Scatter(x=pd.to_datetime(stock_data_specific.Date, infer_datetime_format=True), y=stock_data_specific.Close.astype(\"float\"), name=\"Share Price\"), row=1, col=1)\n",
    "    fig.add_trace(go.Scatter(x=pd.to_datetime(revenue_data_specific.Date, infer_datetime_format=True), y=revenue_data_specific.Revenue.astype(\"float\"), name=\"Revenue\"), row=2, col=1)\n",
    "    fig.update_xaxes(title_text=\"Date\", row=1, col=1)\n",
    "    fig.update_xaxes(title_text=\"Date\", row=2, col=1)\n",
    "    fig.update_yaxes(title_text=\"Price ($US)\", row=1, col=1)\n",
    "    fig.update_yaxes(title_text=\"Revenue ($US Millions)\", row=2, col=1)\n",
    "    fig.update_layout(showlegend=False,\n",
    "    height=900,\n",
    "    title=stock,\n",
    "    xaxis_rangeslider_visible=True)\n",
    "    fig.show()\n",
    "    from IPython.display import display, HTML\n",
    "    fig_html = fig.to_html()\n",
    "    display(HTML(fig_html))"
   ]
  },
  {
   "cell_type": "code",
   "execution_count": null,
   "id": "5aa7621a-171a-44a8-9068-e7877a4d5eb1",
   "metadata": {},
   "outputs": [],
   "source": [
    "data=yf.Ticker('TSLA')"
   ]
  },
  {
   "cell_type": "code",
   "execution_count": null,
   "id": "ab8b512c-09a7-4705-bb96-406a5e8852c2",
   "metadata": {},
   "outputs": [],
   "source": [
    "stock_data=data.history(period='max')"
   ]
  },
  {
   "cell_type": "code",
   "execution_count": null,
   "id": "a3fbc6e2-c62d-4de2-a18d-9925ed99c418",
   "metadata": {
    "scrolled": true
   },
   "outputs": [],
   "source": [
    "stock_data"
   ]
  },
  {
   "cell_type": "code",
   "execution_count": null,
   "id": "8e49b9b0-bd69-462e-9ee6-78042a09a5fd",
   "metadata": {},
   "outputs": [],
   "source": [
    "stock_data.reset_index(inplace=True)"
   ]
  },
  {
   "cell_type": "code",
   "execution_count": null,
   "id": "f49f7b4a-3a8c-4424-a52f-c8a75d8b466c",
   "metadata": {},
   "outputs": [],
   "source": [
    "stock_data.head(5)"
   ]
  },
  {
   "cell_type": "code",
   "execution_count": null,
   "id": "40cc4a1a-1b73-4ecc-9213-a842981ab5a1",
   "metadata": {},
   "outputs": [],
   "source": [
    "import requests\n",
    "import pandas as pd\n",
    "from bs4 import BeautifulSoup\n",
    "\n",
    "def make_graph(stock_data, revenue_data, stock):\n",
    "    fig = make_subplots(\n",
    "        rows=2, cols=1, shared_xaxes=True, subplot_titles=(\"Historical Share Price\", \"Historical Revenue\"), vertical_spacing=0.3\n",
    "    )\n",
    "\n",
    "    # Filter the stock data for the specific date range\n",
    "    stock_data_specific = stock_data[stock_data.Date <= '2021-06-14']\n",
    "    revenue_data_specific = revenue_data[revenue_data.Date <= '2021-04-30']\n",
    "\n",
    "    # Create the Share Price trace (first subplot)\n",
    "    fig.add_trace(\n",
    "        go.Scatter(x=pd.to_datetime(stock_data_specific.Date), y=stock_data_specific.Close.astype(\"float\"), name=\"Share Price\"),\n",
    "        row=1, col=1\n",
    "    )\n",
    "\n",
    "    # Create the Revenue trace (second subplot)\n",
    "    fig.add_trace(\n",
    "        go.Scatter(x=pd.to_datetime(revenue_data_specific.Date), y=revenue_data_specific.Revenue.astype(\"float\"), name=\"Revenue\"),\n",
    "        row=2, col=1\n",
    "    )\n",
    "\n",
    "    # Update axes and layout\n",
    "    fig.update_xaxes(title_text=\"Date\", row=1, col=1)\n",
    "    fig.update_xaxes(title_text=\"Date\", row=2, col=1)\n",
    "    fig.update_yaxes(title_text=\"Price ($US)\", row=1, col=1)\n",
    "    fig.update_yaxes(title_text=\"Revenue ($US Millions)\", row=2, col=1)\n",
    "    fig.update_layout(\n",
    "        showlegend=False,\n",
    "        height=900,\n",
    "        title=stock,\n",
    "        xaxis_rangeslider_visible=True\n",
    "    )\n",
    "\n",
    "    # Show the plot\n",
    "    fig.show()\n",
    "\n",
    "    # Display the plot as HTML\n",
    "    from IPython.display import display, HTML\n",
    "    fig_html = fig.to_html()\n",
    "    display(HTML(fig_html))\n",
    "\n"
   ]
  },
  {
   "cell_type": "code",
   "execution_count": null,
   "id": "99029882-28e0-4e40-81db-188760760de3",
   "metadata": {},
   "outputs": [],
   "source": [
    "tesla_revenue"
   ]
  },
  {
   "cell_type": "code",
   "execution_count": null,
   "id": "7d760c3d-cdaa-4ba8-a35e-89e93afbecbe",
   "metadata": {},
   "outputs": [],
   "source": [
    "tesla_revenue[\"Revenue\"] = tesla_revenue['Revenue'].str.replace(r',|\\$', '', regex=True)\n"
   ]
  },
  {
   "cell_type": "code",
   "execution_count": null,
   "id": "beded0a3-3a53-4e8f-9fac-50f0877e9f68",
   "metadata": {},
   "outputs": [],
   "source": [
    "tesla_revenue"
   ]
  },
  {
   "cell_type": "code",
   "execution_count": null,
   "id": "7b623b6d-a494-4786-aaa7-80e334daa02e",
   "metadata": {},
   "outputs": [],
   "source": [
    "tesla_revenue.dropna(inplace=True)\n",
    "\n",
    "tesla_revenue = tesla_revenue[tesla_revenue['Revenue'] != \"\"]"
   ]
  },
  {
   "cell_type": "code",
   "execution_count": null,
   "id": "1a14d193-72f5-4dc3-a44c-c3c5e69253a7",
   "metadata": {},
   "outputs": [],
   "source": [
    "tesla_revenue"
   ]
  },
  {
   "cell_type": "code",
   "execution_count": null,
   "id": "3a0baf86-faae-4b62-9a13-b95ec261d7a4",
   "metadata": {},
   "outputs": [],
   "source": [
    "tesla_revenue.head(5)"
   ]
  },
  {
   "cell_type": "code",
   "execution_count": null,
   "id": "445f2dea-8340-4629-a0f5-f34d2f4b09c9",
   "metadata": {},
   "outputs": [],
   "source": [
    "content=yf.Ticker('GME')"
   ]
  },
  {
   "cell_type": "code",
   "execution_count": null,
   "id": "f8c7a90e-5ca5-446c-a76d-aaca7dc77cd7",
   "metadata": {},
   "outputs": [],
   "source": [
    "gme_data=content.history(period='max')"
   ]
  },
  {
   "cell_type": "code",
   "execution_count": null,
   "id": "3254959b-b963-4bb7-b3cf-9253ce4eede2",
   "metadata": {},
   "outputs": [],
   "source": [
    "gme_data.reset_index(inplace=True)"
   ]
  },
  {
   "cell_type": "code",
   "execution_count": null,
   "id": "4d70b2ae-6649-4dd7-ac74-b0026cb9ed5c",
   "metadata": {},
   "outputs": [],
   "source": [
    "gme_data.head(5)"
   ]
  },
  {
   "cell_type": "code",
   "execution_count": null,
   "id": "0c9bf0e3-3d08-4997-9ad3-4e4e066f751c",
   "metadata": {},
   "outputs": [],
   "source": [
    "url1=' https://cf-courses-data.s3.us.cloud-object-storage.appdomain.cloud/IBMDeveloperSkillsNetwork-PY0220EN-SkillsNetwork/labs/project/stock.html'"
   ]
  },
  {
   "cell_type": "code",
   "execution_count": null,
   "id": "ad7c8629-62ba-4bf9-9004-921786421f61",
   "metadata": {},
   "outputs": [],
   "source": [
    "html_data_2=requests.get(url1)"
   ]
  },
  {
   "cell_type": "code",
   "execution_count": null,
   "id": "7cea85ca-73e9-4851-8503-3a3b265113d7",
   "metadata": {},
   "outputs": [],
   "source": [
    "soup = BeautifulSoup(html_data_2.content,'html.parser')"
   ]
  },
  {
   "cell_type": "code",
   "execution_count": null,
   "id": "b6d9805b-0cd8-4e55-acf7-29ae9650ae00",
   "metadata": {},
   "outputs": [],
   "source": [
    "table1 = soup.find('table')  \n",
    "rows1 = table1.find_all('tr')[1:]\n",
    "new_rows1 = []  # Temporary list to store rows\n",
    "for row in rows1:\n",
    "    cols = row.find_all('td')  \n",
    "    if len(cols) > 1:  \n",
    "        date = cols[0].text.strip()  \n",
    "        revenue = cols[1].text.strip() \n",
    "        new_rows1.append({'Date': date, 'Revenue': revenue})\n",
    "\n",
    "\n",
    "gme_revenue = pd.DataFrame(new_rows) "
   ]
  },
  {
   "cell_type": "code",
   "execution_count": null,
   "id": "1598133a-ae74-4f29-8a4d-e80197df647c",
   "metadata": {},
   "outputs": [],
   "source": [
    "gme_revenue"
   ]
  },
  {
   "cell_type": "code",
   "execution_count": null,
   "id": "5eaec6a7-33e3-4326-8b8a-a07cce4331d8",
   "metadata": {},
   "outputs": [],
   "source": [
    "gme_revenue[\"Revenue\"] = gme_revenue['Revenue'].str.replace(r',|\\$', '', regex=True)"
   ]
  },
  {
   "cell_type": "code",
   "execution_count": null,
   "id": "9dab6e6d-5fbb-4834-afe3-9df4068a7dab",
   "metadata": {},
   "outputs": [],
   "source": [
    "gme_revenue.tail(5)"
   ]
  },
  {
   "cell_type": "code",
   "execution_count": null,
   "id": "e6e986b0-e25a-4c7f-bff7-4f16722edca6",
   "metadata": {},
   "outputs": [],
   "source": [
    "make_graph(stock_data, tesla_revenue, 'Tesla')"
   ]
  },
  {
   "cell_type": "code",
   "execution_count": null,
   "id": "a5d7e7e0-b1ab-4798-853c-3c20e06be7e1",
   "metadata": {},
   "outputs": [],
   "source": [
    "make_graph(gme_data, gme_revenue, 'GameStop')"
   ]
  },
  {
   "cell_type": "code",
   "execution_count": null,
   "id": "38fc1d29-3a97-45df-9854-6a9f1c11bd20",
   "metadata": {},
   "outputs": [],
   "source": []
  }
 ],
 "metadata": {
  "kernelspec": {
   "display_name": "Python 3 (ipykernel)",
   "language": "python",
   "name": "python3"
  },
  "language_info": {
   "codemirror_mode": {
    "name": "ipython",
    "version": 3
   },
   "file_extension": ".py",
   "mimetype": "text/x-python",
   "name": "python",
   "nbconvert_exporter": "python",
   "pygments_lexer": "ipython3",
   "version": "3.12.7"
  }
 },
 "nbformat": 4,
 "nbformat_minor": 5
}
